{
 "cells": [
  {
   "cell_type": "code",
   "execution_count": 1,
   "metadata": {},
   "outputs": [],
   "source": [
    "from peft import LoraConfig, TaskType, get_peft_model\n",
    "from sentence_transformers import SentenceTransformer\n"
   ]
  },
  {
   "cell_type": "code",
   "execution_count": null,
   "metadata": {},
   "outputs": [],
   "source": [
    "model_name = \"sentence-transformers/all-MiniLM-L6-v2\"\n",
    "model_name = \"sentence-transformers/all-MiniLM-L6-v2\"\n",
    "model = SentenceTransformer(model_name)"
   ]
  },
  {
   "cell_type": "code",
   "execution_count": 4,
   "metadata": {},
   "outputs": [
    {
     "name": "stdout",
     "output_type": "stream",
     "text": [
      "trainable params: 73,728 || all params: 22,786,944 || trainable%: 0.3236\n"
     ]
    }
   ],
   "source": [
    "peft_config = LoraConfig(\n",
    "    task_type=TaskType.FEATURE_EXTRACTION,\n",
    "    target_modules=[\"query\", \"key\"],  # value and dense might be useful later\n",
    "    inference_mode=False,\n",
    "    r=8,\n",
    "    lora_alpha=16,  # just set to 2 * alpha as a rule of thumb\n",
    "    lora_dropout=0.2,\n",
    ")\n",
    "model[0]._modules[\"auto_model\"] = get_peft_model(model[0]._modules[\"auto_model\"], peft_config)\n",
    "# peft_model = get_peft_model(model, peft_config)\n",
    "model[0]._modules[\"auto_model\"].print_trainable_parameters()"
   ]
  },
  {
   "cell_type": "code",
   "execution_count": 11,
   "metadata": {},
   "outputs": [
    {
     "data": {
      "text/plain": [
       "False"
      ]
     },
     "execution_count": 11,
     "metadata": {},
     "output_type": "execute_result"
    }
   ],
   "source": [
    "from transformers import BertModel, RobertaModel\n",
    "isinstance(model[0]._modules[\"auto_model\"], RobertaModel)"
   ]
  },
  {
   "cell_type": "code",
   "execution_count": 5,
   "metadata": {},
   "outputs": [
    {
     "name": "stdout",
     "output_type": "stream",
     "text": [
      "base_model.model.base_model.model.embeddings.word_embeddings.weight\n",
      "base_model.model.base_model.model.embeddings.position_embeddings.weight\n",
      "base_model.model.base_model.model.embeddings.token_type_embeddings.weight\n",
      "base_model.model.base_model.model.embeddings.LayerNorm.weight\n",
      "base_model.model.base_model.model.embeddings.LayerNorm.bias\n",
      "base_model.model.base_model.model.encoder.layer.0.attention.self.query.base_layer.weight\n",
      "base_model.model.base_model.model.encoder.layer.0.attention.self.query.base_layer.bias\n",
      "base_model.model.base_model.model.encoder.layer.0.attention.self.query.lora_A.default.weight\n",
      "base_model.model.base_model.model.encoder.layer.0.attention.self.query.lora_B.default.weight\n",
      "base_model.model.base_model.model.encoder.layer.0.attention.self.key.base_layer.weight\n",
      "base_model.model.base_model.model.encoder.layer.0.attention.self.key.base_layer.bias\n",
      "base_model.model.base_model.model.encoder.layer.0.attention.self.key.lora_A.default.weight\n",
      "base_model.model.base_model.model.encoder.layer.0.attention.self.key.lora_B.default.weight\n",
      "base_model.model.base_model.model.encoder.layer.0.attention.self.value.weight\n",
      "base_model.model.base_model.model.encoder.layer.0.attention.self.value.bias\n",
      "base_model.model.base_model.model.encoder.layer.0.attention.output.dense.weight\n",
      "base_model.model.base_model.model.encoder.layer.0.attention.output.dense.bias\n",
      "base_model.model.base_model.model.encoder.layer.0.attention.output.LayerNorm.weight\n",
      "base_model.model.base_model.model.encoder.layer.0.attention.output.LayerNorm.bias\n",
      "base_model.model.base_model.model.encoder.layer.0.intermediate.dense.weight\n",
      "base_model.model.base_model.model.encoder.layer.0.intermediate.dense.bias\n",
      "base_model.model.base_model.model.encoder.layer.0.output.dense.weight\n",
      "base_model.model.base_model.model.encoder.layer.0.output.dense.bias\n",
      "base_model.model.base_model.model.encoder.layer.0.output.LayerNorm.weight\n",
      "base_model.model.base_model.model.encoder.layer.0.output.LayerNorm.bias\n",
      "base_model.model.base_model.model.encoder.layer.1.attention.self.query.base_layer.weight\n",
      "base_model.model.base_model.model.encoder.layer.1.attention.self.query.base_layer.bias\n",
      "base_model.model.base_model.model.encoder.layer.1.attention.self.query.lora_A.default.weight\n",
      "base_model.model.base_model.model.encoder.layer.1.attention.self.query.lora_B.default.weight\n",
      "base_model.model.base_model.model.encoder.layer.1.attention.self.key.base_layer.weight\n",
      "base_model.model.base_model.model.encoder.layer.1.attention.self.key.base_layer.bias\n",
      "base_model.model.base_model.model.encoder.layer.1.attention.self.key.lora_A.default.weight\n",
      "base_model.model.base_model.model.encoder.layer.1.attention.self.key.lora_B.default.weight\n",
      "base_model.model.base_model.model.encoder.layer.1.attention.self.value.weight\n",
      "base_model.model.base_model.model.encoder.layer.1.attention.self.value.bias\n",
      "base_model.model.base_model.model.encoder.layer.1.attention.output.dense.weight\n",
      "base_model.model.base_model.model.encoder.layer.1.attention.output.dense.bias\n",
      "base_model.model.base_model.model.encoder.layer.1.attention.output.LayerNorm.weight\n",
      "base_model.model.base_model.model.encoder.layer.1.attention.output.LayerNorm.bias\n",
      "base_model.model.base_model.model.encoder.layer.1.intermediate.dense.weight\n",
      "base_model.model.base_model.model.encoder.layer.1.intermediate.dense.bias\n",
      "base_model.model.base_model.model.encoder.layer.1.output.dense.weight\n",
      "base_model.model.base_model.model.encoder.layer.1.output.dense.bias\n",
      "base_model.model.base_model.model.encoder.layer.1.output.LayerNorm.weight\n",
      "base_model.model.base_model.model.encoder.layer.1.output.LayerNorm.bias\n",
      "base_model.model.base_model.model.encoder.layer.2.attention.self.query.base_layer.weight\n",
      "base_model.model.base_model.model.encoder.layer.2.attention.self.query.base_layer.bias\n",
      "base_model.model.base_model.model.encoder.layer.2.attention.self.query.lora_A.default.weight\n",
      "base_model.model.base_model.model.encoder.layer.2.attention.self.query.lora_B.default.weight\n",
      "base_model.model.base_model.model.encoder.layer.2.attention.self.key.base_layer.weight\n",
      "base_model.model.base_model.model.encoder.layer.2.attention.self.key.base_layer.bias\n",
      "base_model.model.base_model.model.encoder.layer.2.attention.self.key.lora_A.default.weight\n",
      "base_model.model.base_model.model.encoder.layer.2.attention.self.key.lora_B.default.weight\n",
      "base_model.model.base_model.model.encoder.layer.2.attention.self.value.weight\n",
      "base_model.model.base_model.model.encoder.layer.2.attention.self.value.bias\n",
      "base_model.model.base_model.model.encoder.layer.2.attention.output.dense.weight\n",
      "base_model.model.base_model.model.encoder.layer.2.attention.output.dense.bias\n",
      "base_model.model.base_model.model.encoder.layer.2.attention.output.LayerNorm.weight\n",
      "base_model.model.base_model.model.encoder.layer.2.attention.output.LayerNorm.bias\n",
      "base_model.model.base_model.model.encoder.layer.2.intermediate.dense.weight\n",
      "base_model.model.base_model.model.encoder.layer.2.intermediate.dense.bias\n",
      "base_model.model.base_model.model.encoder.layer.2.output.dense.weight\n",
      "base_model.model.base_model.model.encoder.layer.2.output.dense.bias\n",
      "base_model.model.base_model.model.encoder.layer.2.output.LayerNorm.weight\n",
      "base_model.model.base_model.model.encoder.layer.2.output.LayerNorm.bias\n",
      "base_model.model.base_model.model.encoder.layer.3.attention.self.query.base_layer.weight\n",
      "base_model.model.base_model.model.encoder.layer.3.attention.self.query.base_layer.bias\n",
      "base_model.model.base_model.model.encoder.layer.3.attention.self.query.lora_A.default.weight\n",
      "base_model.model.base_model.model.encoder.layer.3.attention.self.query.lora_B.default.weight\n",
      "base_model.model.base_model.model.encoder.layer.3.attention.self.key.base_layer.weight\n",
      "base_model.model.base_model.model.encoder.layer.3.attention.self.key.base_layer.bias\n",
      "base_model.model.base_model.model.encoder.layer.3.attention.self.key.lora_A.default.weight\n",
      "base_model.model.base_model.model.encoder.layer.3.attention.self.key.lora_B.default.weight\n",
      "base_model.model.base_model.model.encoder.layer.3.attention.self.value.weight\n",
      "base_model.model.base_model.model.encoder.layer.3.attention.self.value.bias\n",
      "base_model.model.base_model.model.encoder.layer.3.attention.output.dense.weight\n",
      "base_model.model.base_model.model.encoder.layer.3.attention.output.dense.bias\n",
      "base_model.model.base_model.model.encoder.layer.3.attention.output.LayerNorm.weight\n",
      "base_model.model.base_model.model.encoder.layer.3.attention.output.LayerNorm.bias\n",
      "base_model.model.base_model.model.encoder.layer.3.intermediate.dense.weight\n",
      "base_model.model.base_model.model.encoder.layer.3.intermediate.dense.bias\n",
      "base_model.model.base_model.model.encoder.layer.3.output.dense.weight\n",
      "base_model.model.base_model.model.encoder.layer.3.output.dense.bias\n",
      "base_model.model.base_model.model.encoder.layer.3.output.LayerNorm.weight\n",
      "base_model.model.base_model.model.encoder.layer.3.output.LayerNorm.bias\n",
      "base_model.model.base_model.model.encoder.layer.4.attention.self.query.base_layer.weight\n",
      "base_model.model.base_model.model.encoder.layer.4.attention.self.query.base_layer.bias\n",
      "base_model.model.base_model.model.encoder.layer.4.attention.self.query.lora_A.default.weight\n",
      "base_model.model.base_model.model.encoder.layer.4.attention.self.query.lora_B.default.weight\n",
      "base_model.model.base_model.model.encoder.layer.4.attention.self.key.base_layer.weight\n",
      "base_model.model.base_model.model.encoder.layer.4.attention.self.key.base_layer.bias\n",
      "base_model.model.base_model.model.encoder.layer.4.attention.self.key.lora_A.default.weight\n",
      "base_model.model.base_model.model.encoder.layer.4.attention.self.key.lora_B.default.weight\n",
      "base_model.model.base_model.model.encoder.layer.4.attention.self.value.weight\n",
      "base_model.model.base_model.model.encoder.layer.4.attention.self.value.bias\n",
      "base_model.model.base_model.model.encoder.layer.4.attention.output.dense.weight\n",
      "base_model.model.base_model.model.encoder.layer.4.attention.output.dense.bias\n",
      "base_model.model.base_model.model.encoder.layer.4.attention.output.LayerNorm.weight\n",
      "base_model.model.base_model.model.encoder.layer.4.attention.output.LayerNorm.bias\n",
      "base_model.model.base_model.model.encoder.layer.4.intermediate.dense.weight\n",
      "base_model.model.base_model.model.encoder.layer.4.intermediate.dense.bias\n",
      "base_model.model.base_model.model.encoder.layer.4.output.dense.weight\n",
      "base_model.model.base_model.model.encoder.layer.4.output.dense.bias\n",
      "base_model.model.base_model.model.encoder.layer.4.output.LayerNorm.weight\n",
      "base_model.model.base_model.model.encoder.layer.4.output.LayerNorm.bias\n",
      "base_model.model.base_model.model.encoder.layer.5.attention.self.query.base_layer.weight\n",
      "base_model.model.base_model.model.encoder.layer.5.attention.self.query.base_layer.bias\n",
      "base_model.model.base_model.model.encoder.layer.5.attention.self.query.lora_A.default.weight\n",
      "base_model.model.base_model.model.encoder.layer.5.attention.self.query.lora_B.default.weight\n",
      "base_model.model.base_model.model.encoder.layer.5.attention.self.key.base_layer.weight\n",
      "base_model.model.base_model.model.encoder.layer.5.attention.self.key.base_layer.bias\n",
      "base_model.model.base_model.model.encoder.layer.5.attention.self.key.lora_A.default.weight\n",
      "base_model.model.base_model.model.encoder.layer.5.attention.self.key.lora_B.default.weight\n",
      "base_model.model.base_model.model.encoder.layer.5.attention.self.value.weight\n",
      "base_model.model.base_model.model.encoder.layer.5.attention.self.value.bias\n",
      "base_model.model.base_model.model.encoder.layer.5.attention.output.dense.weight\n",
      "base_model.model.base_model.model.encoder.layer.5.attention.output.dense.bias\n",
      "base_model.model.base_model.model.encoder.layer.5.attention.output.LayerNorm.weight\n",
      "base_model.model.base_model.model.encoder.layer.5.attention.output.LayerNorm.bias\n",
      "base_model.model.base_model.model.encoder.layer.5.intermediate.dense.weight\n",
      "base_model.model.base_model.model.encoder.layer.5.intermediate.dense.bias\n",
      "base_model.model.base_model.model.encoder.layer.5.output.dense.weight\n",
      "base_model.model.base_model.model.encoder.layer.5.output.dense.bias\n",
      "base_model.model.base_model.model.encoder.layer.5.output.LayerNorm.weight\n",
      "base_model.model.base_model.model.encoder.layer.5.output.LayerNorm.bias\n",
      "base_model.model.base_model.model.pooler.dense.weight\n",
      "base_model.model.base_model.model.pooler.dense.bias\n"
     ]
    }
   ],
   "source": [
    "for name, param in model[0]._modules[\"auto_model\"].named_parameters():\n",
    "    print(name)"
   ]
  },
  {
   "cell_type": "code",
   "execution_count": null,
   "metadata": {},
   "outputs": [],
   "source": []
  }
 ],
 "metadata": {
  "kernelspec": {
   "display_name": "kaggle_eedi",
   "language": "python",
   "name": "python3"
  },
  "language_info": {
   "codemirror_mode": {
    "name": "ipython",
    "version": 3
   },
   "file_extension": ".py",
   "mimetype": "text/x-python",
   "name": "python",
   "nbconvert_exporter": "python",
   "pygments_lexer": "ipython3",
   "version": "3.11.9"
  }
 },
 "nbformat": 4,
 "nbformat_minor": 2
}
