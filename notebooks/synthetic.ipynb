{
 "cells": [
  {
   "cell_type": "code",
   "execution_count": 206,
   "metadata": {},
   "outputs": [
    {
     "data": {
      "text/plain": [
       "True"
      ]
     },
     "execution_count": 206,
     "metadata": {},
     "output_type": "execute_result"
    }
   ],
   "source": [
    "from openai import OpenAI\n",
    "import pandas as pd\n",
    "import IPython.display as ipd\n",
    "import random\n",
    "import numpy as np\n",
    "import os\n",
    "from collections import defaultdict\n",
    "import random\n",
    "from eedi.datasets import make_nice_df, make_complete_query\n",
    "from pydantic import BaseModel\n",
    "from dotenv import load_dotenv\n",
    "import seaborn as sns\n",
    "load_dotenv()"
   ]
  },
  {
   "cell_type": "code",
   "execution_count": 227,
   "metadata": {},
   "outputs": [],
   "source": [
    "df_train = pd.read_csv(\"../data/train.csv\")\n",
    "df_train = make_nice_df(df_train)\n",
    "# df_train[\"QuestionComplete\"] = df_train.apply(make_complete_query, axis=1)\n",
    "df_mis = pd.read_csv(\"../data/misconception_mapping.csv\")\n",
    "orig_mis = df_mis[\"MisconceptionName\"]"
   ]
  },
  {
   "cell_type": "code",
   "execution_count": null,
   "metadata": {},
   "outputs": [
    {
     "data": {
      "text/plain": [
       "(983, 1604)"
      ]
     },
     "execution_count": 239,
     "metadata": {},
     "output_type": "execute_result"
    }
   ],
   "source": [
    "mis_in_train = set(df_train[\"MisconceptionId\"])\n",
    "all_mis = set(df_mis[\"MisconceptionId\"])\n",
    "missing = all_mis - mis_in_train\n",
    "train_and_missing_ratio = len(mis_in_train) / len(missing)\n",
    "len(missing), len(mis_in_train)"
   ]
  },
  {
   "cell_type": "code",
   "execution_count": 265,
   "metadata": {},
   "outputs": [
    {
     "data": {
      "text/plain": [
       "(4370, 12)"
      ]
     },
     "execution_count": 265,
     "metadata": {},
     "output_type": "execute_result"
    }
   ],
   "source": [
    "df_train.shape"
   ]
  },
  {
   "cell_type": "code",
   "execution_count": null,
   "metadata": {},
   "outputs": [
    {
     "data": {
      "text/plain": [
       "4915"
      ]
     },
     "execution_count": 241,
     "metadata": {},
     "output_type": "execute_result"
    }
   ],
   "source": []
  },
  {
   "cell_type": "code",
   "execution_count": null,
   "metadata": {},
   "outputs": [
    {
     "data": {
      "text/plain": [
       "1.631739572736521"
      ]
     },
     "execution_count": 240,
     "metadata": {},
     "output_type": "execute_result"
    }
   ],
   "source": [
    "\n",
    "train_and_missing_ratio"
   ]
  },
  {
   "cell_type": "code",
   "execution_count": 172,
   "metadata": {},
   "outputs": [
    {
     "data": {
      "text/plain": [
       "MisconceptionId\n",
       "1214    54\n",
       "1379    43\n",
       "2316    38\n",
       "1507    36\n",
       "1990    33\n",
       "        ..\n",
       "138      1\n",
       "1140     1\n",
       "1640     1\n",
       "1862     1\n",
       "95       1\n",
       "Name: count, Length: 1604, dtype: int64"
      ]
     },
     "execution_count": 172,
     "metadata": {},
     "output_type": "execute_result"
    }
   ],
   "source": [
    "df_train[\"MisconceptionId\"].value_counts()"
   ]
  },
  {
   "cell_type": "code",
   "execution_count": 229,
   "metadata": {},
   "outputs": [],
   "source": [
    "# using inverse sampling from train in order to balance which misconception to pick\n",
    "mis_id_to_train_idx = defaultdict(list)\n",
    "for train_idx, mis_id in enumerate(df_train[\"MisconceptionId\"]):\n",
    "    mis_id_to_train_idx[mis_id].append(train_idx)\n",
    "\n",
    "mis_id_to_count = {k: len(v) for k, v in mis_id_to_train_idx.items()}\n",
    "count_arr = np.array(list(mis_id_to_count.values()))\n",
    "inv_prob = 1 / count_arr\n",
    "inv_prob = inv_prob / inv_prob.sum()\n",
    "aa = np.random.choice(\n",
    "    np.array(list(mis_id_to_count.keys())), size=30000, replace=True, p=inv_prob\n",
    ")"
   ]
  },
  {
   "cell_type": "code",
   "execution_count": 226,
   "metadata": {},
   "outputs": [
    {
     "data": {
      "text/html": [
       "<div>\n",
       "<style scoped>\n",
       "    .dataframe tbody tr th:only-of-type {\n",
       "        vertical-align: middle;\n",
       "    }\n",
       "\n",
       "    .dataframe tbody tr th {\n",
       "        vertical-align: top;\n",
       "    }\n",
       "\n",
       "    .dataframe thead th {\n",
       "        text-align: right;\n",
       "    }\n",
       "</style>\n",
       "<table border=\"1\" class=\"dataframe\">\n",
       "  <thead>\n",
       "    <tr style=\"text-align: right;\">\n",
       "      <th></th>\n",
       "      <th>QuestionId</th>\n",
       "      <th>ConstructId</th>\n",
       "      <th>ConstructName</th>\n",
       "      <th>SubjectId</th>\n",
       "      <th>SubjectName</th>\n",
       "      <th>CorrectChoice</th>\n",
       "      <th>CorrectText</th>\n",
       "      <th>QuestionText</th>\n",
       "      <th>WrongChoice</th>\n",
       "      <th>WrongText</th>\n",
       "      <th>MisconceptionId</th>\n",
       "      <th>QuestionId_Answer</th>\n",
       "    </tr>\n",
       "  </thead>\n",
       "  <tbody>\n",
       "    <tr>\n",
       "      <th>0</th>\n",
       "      <td>0</td>\n",
       "      <td>856</td>\n",
       "      <td>Use the order of operations to carry out calcu...</td>\n",
       "      <td>33</td>\n",
       "      <td>BIDMAS</td>\n",
       "      <td>A</td>\n",
       "      <td>\\( 3 \\times(2+4)-5 \\)</td>\n",
       "      <td>\\[\\n3 \\times 2+4-5\\n\\]\\nWhere do the brackets ...</td>\n",
       "      <td>D</td>\n",
       "      <td>Does not need brackets</td>\n",
       "      <td>1672</td>\n",
       "      <td>0_D</td>\n",
       "    </tr>\n",
       "    <tr>\n",
       "      <th>1</th>\n",
       "      <td>1</td>\n",
       "      <td>1612</td>\n",
       "      <td>Simplify an algebraic fraction by factorising ...</td>\n",
       "      <td>1077</td>\n",
       "      <td>Simplifying Algebraic Fractions</td>\n",
       "      <td>D</td>\n",
       "      <td>Does not simplify</td>\n",
       "      <td>Simplify the following, if possible: \\( \\frac{...</td>\n",
       "      <td>A</td>\n",
       "      <td>\\( m+1 \\)</td>\n",
       "      <td>2142</td>\n",
       "      <td>1_A</td>\n",
       "    </tr>\n",
       "    <tr>\n",
       "      <th>2</th>\n",
       "      <td>1</td>\n",
       "      <td>1612</td>\n",
       "      <td>Simplify an algebraic fraction by factorising ...</td>\n",
       "      <td>1077</td>\n",
       "      <td>Simplifying Algebraic Fractions</td>\n",
       "      <td>D</td>\n",
       "      <td>Does not simplify</td>\n",
       "      <td>Simplify the following, if possible: \\( \\frac{...</td>\n",
       "      <td>B</td>\n",
       "      <td>\\( m+2 \\)</td>\n",
       "      <td>143</td>\n",
       "      <td>1_B</td>\n",
       "    </tr>\n",
       "    <tr>\n",
       "      <th>3</th>\n",
       "      <td>1</td>\n",
       "      <td>1612</td>\n",
       "      <td>Simplify an algebraic fraction by factorising ...</td>\n",
       "      <td>1077</td>\n",
       "      <td>Simplifying Algebraic Fractions</td>\n",
       "      <td>D</td>\n",
       "      <td>Does not simplify</td>\n",
       "      <td>Simplify the following, if possible: \\( \\frac{...</td>\n",
       "      <td>C</td>\n",
       "      <td>\\( m-1 \\)</td>\n",
       "      <td>2142</td>\n",
       "      <td>1_C</td>\n",
       "    </tr>\n",
       "    <tr>\n",
       "      <th>4</th>\n",
       "      <td>2</td>\n",
       "      <td>2774</td>\n",
       "      <td>Calculate the range from a list of data</td>\n",
       "      <td>339</td>\n",
       "      <td>Range and Interquartile Range from a List of Data</td>\n",
       "      <td>B</td>\n",
       "      <td>Only\\nKatie</td>\n",
       "      <td>Tom and Katie are discussing the \\( 5 \\) plant...</td>\n",
       "      <td>A</td>\n",
       "      <td>Only\\nTom</td>\n",
       "      <td>1287</td>\n",
       "      <td>2_A</td>\n",
       "    </tr>\n",
       "    <tr>\n",
       "      <th>...</th>\n",
       "      <td>...</td>\n",
       "      <td>...</td>\n",
       "      <td>...</td>\n",
       "      <td>...</td>\n",
       "      <td>...</td>\n",
       "      <td>...</td>\n",
       "      <td>...</td>\n",
       "      <td>...</td>\n",
       "      <td>...</td>\n",
       "      <td>...</td>\n",
       "      <td>...</td>\n",
       "      <td>...</td>\n",
       "    </tr>\n",
       "    <tr>\n",
       "      <th>4365</th>\n",
       "      <td>1867</td>\n",
       "      <td>2634</td>\n",
       "      <td>Distinguish between congruency and similarity</td>\n",
       "      <td>274</td>\n",
       "      <td>Congruency in Other Shapes</td>\n",
       "      <td>B</td>\n",
       "      <td>Only Katie</td>\n",
       "      <td>Tom and Katie are discussing congruence and si...</td>\n",
       "      <td>C</td>\n",
       "      <td>Both Tom and Katie</td>\n",
       "      <td>2312</td>\n",
       "      <td>1867_C</td>\n",
       "    </tr>\n",
       "    <tr>\n",
       "      <th>4366</th>\n",
       "      <td>1867</td>\n",
       "      <td>2634</td>\n",
       "      <td>Distinguish between congruency and similarity</td>\n",
       "      <td>274</td>\n",
       "      <td>Congruency in Other Shapes</td>\n",
       "      <td>B</td>\n",
       "      <td>Only Katie</td>\n",
       "      <td>Tom and Katie are discussing congruence and si...</td>\n",
       "      <td>D</td>\n",
       "      <td>Neither is correct</td>\n",
       "      <td>2312</td>\n",
       "      <td>1867_D</td>\n",
       "    </tr>\n",
       "    <tr>\n",
       "      <th>4367</th>\n",
       "      <td>1868</td>\n",
       "      <td>2680</td>\n",
       "      <td>Describe a 90° or 270° rotation giving the ang...</td>\n",
       "      <td>93</td>\n",
       "      <td>Rotation</td>\n",
       "      <td>B</td>\n",
       "      <td>Only Paul</td>\n",
       "      <td>Jo and Paul are arguing about how to fully des...</td>\n",
       "      <td>A</td>\n",
       "      <td>Only\\nJo</td>\n",
       "      <td>801</td>\n",
       "      <td>1868_A</td>\n",
       "    </tr>\n",
       "    <tr>\n",
       "      <th>4368</th>\n",
       "      <td>1868</td>\n",
       "      <td>2680</td>\n",
       "      <td>Describe a 90° or 270° rotation giving the ang...</td>\n",
       "      <td>93</td>\n",
       "      <td>Rotation</td>\n",
       "      <td>B</td>\n",
       "      <td>Only Paul</td>\n",
       "      <td>Jo and Paul are arguing about how to fully des...</td>\n",
       "      <td>C</td>\n",
       "      <td>Both Jo and Paul</td>\n",
       "      <td>801</td>\n",
       "      <td>1868_C</td>\n",
       "    </tr>\n",
       "    <tr>\n",
       "      <th>4369</th>\n",
       "      <td>1868</td>\n",
       "      <td>2680</td>\n",
       "      <td>Describe a 90° or 270° rotation giving the ang...</td>\n",
       "      <td>93</td>\n",
       "      <td>Rotation</td>\n",
       "      <td>B</td>\n",
       "      <td>Only Paul</td>\n",
       "      <td>Jo and Paul are arguing about how to fully des...</td>\n",
       "      <td>D</td>\n",
       "      <td>Neither is correct</td>\n",
       "      <td>95</td>\n",
       "      <td>1868_D</td>\n",
       "    </tr>\n",
       "  </tbody>\n",
       "</table>\n",
       "<p>4370 rows × 12 columns</p>\n",
       "</div>"
      ],
      "text/plain": [
       "      QuestionId  ConstructId  ... MisconceptionId  QuestionId_Answer\n",
       "0              0          856  ...            1672                0_D\n",
       "1              1         1612  ...            2142                1_A\n",
       "2              1         1612  ...             143                1_B\n",
       "3              1         1612  ...            2142                1_C\n",
       "4              2         2774  ...            1287                2_A\n",
       "...          ...          ...  ...             ...                ...\n",
       "4365        1867         2634  ...            2312             1867_C\n",
       "4366        1867         2634  ...            2312             1867_D\n",
       "4367        1868         2680  ...             801             1868_A\n",
       "4368        1868         2680  ...             801             1868_C\n",
       "4369        1868         2680  ...              95             1868_D\n",
       "\n",
       "[4370 rows x 12 columns]"
      ]
     },
     "execution_count": 226,
     "metadata": {},
     "output_type": "execute_result"
    }
   ],
   "source": [
    "df_train"
   ]
  },
  {
   "cell_type": "code",
   "execution_count": 262,
   "metadata": {},
   "outputs": [
    {
     "data": {
      "text/plain": [
       "0       1672\n",
       "1       2142\n",
       "2        143\n",
       "3       2142\n",
       "4       1287\n",
       "        ... \n",
       "4365    2312\n",
       "4366    2312\n",
       "4367     801\n",
       "4368     801\n",
       "4369      95\n",
       "Name: MisconceptionId, Length: 4370, dtype: int64"
      ]
     },
     "execution_count": 262,
     "metadata": {},
     "output_type": "execute_result"
    }
   ],
   "source": [
    "df_train[\"MisconceptionId\"]"
   ]
  },
  {
   "cell_type": "code",
   "execution_count": 263,
   "metadata": {},
   "outputs": [
    {
     "data": {
      "text/plain": [
       "QuestionId                                                         771\n",
       "ConstructId                                                        665\n",
       "ConstructName        Recognise graphical representations of inverse...\n",
       "SubjectId                                                          244\n",
       "SubjectName                              Indirect (Inverse) Proportion\n",
       "CorrectChoice                                                        C\n",
       "CorrectText          ![A curved line from top left rapidly descendi...\n",
       "QuestionText         Which of the following graphs is most likely t...\n",
       "WrongChoice                                                          B\n",
       "WrongText            ![A straight line from top left to bottom righ...\n",
       "MisconceptionId                                                     16\n",
       "QuestionId_Answer                                                771_B\n",
       "Name: 1816, dtype: object"
      ]
     },
     "execution_count": 263,
     "metadata": {},
     "output_type": "execute_result"
    }
   ],
   "source": [
    "row"
   ]
  },
  {
   "cell_type": "code",
   "execution_count": 250,
   "metadata": {},
   "outputs": [
    {
     "name": "stdout",
     "output_type": "stream",
     "text": [
      "16\n",
      "\n",
      "# One-shot example:\n",
      "subject: Indirect (Inverse) Proportion\n",
      "\n",
      "construct: Recognise graphical representations of inverse proportion in the form y = k/x\n",
      "\n",
      "question: Which of the following graphs is most likely to illustrate the time taken to complete a job \\( (t) \\) changes depending on the number of people working on it \\( (p) \\)\n",
      "\n",
      "correct_answer: ![A curved line from top left rapidly descending as it moves right before slowing down and levelling out ]()\n",
      "\n",
      "wrong_answer: ![A straight line from top left to bottom right, starting from above the origin]()\n",
      "\n",
      "misconception: Believes that graphs of inverse proportion meet the axes\n",
      "\n",
      "# Create new questions based on given example\n",
      "subject: Indirect (Inverse) Proportion\n",
      "\n",
      "construct: Recognise graphical representations of inverse proportion in the form y = k/x\n",
      "\n",
      "question: ...\n",
      "\n",
      "correct_answer: ...\n",
      "\n",
      "wrong_answer: ...\n",
      "\n"
     ]
    }
   ],
   "source": [
    "M = aa[3]\n",
    "print(M)  # that means we call openai for misconcption id M\n",
    "row_idx = random.choice(mis_id_to_train_idx[M])\n",
    "row = df_train.loc[row_idx]\n",
    "row\n",
    "\n",
    "system_prompt = \"\"\"\"\"\"\n",
    "\n",
    "prompt = f\"\"\"\n",
    "# One-shot example:\n",
    "subject: {row['SubjectName']}\n",
    "\n",
    "construct: {row['ConstructName']}\n",
    "\n",
    "question: {row['QuestionText']}\n",
    "\n",
    "correct_answer: {row['CorrectText']}\n",
    "\n",
    "wrong_answer: {row['WrongText']}\n",
    "\n",
    "misconception: {orig_mis[M]}\n",
    "\n",
    "# Create new questions based on given example\n",
    "subject: {row['SubjectName']}\n",
    "\n",
    "construct: {row['ConstructName']}\n",
    "\n",
    "question: ...\n",
    "\n",
    "correct_answer: ...\n",
    "\n",
    "wrong_answer: ...\n",
    "\"\"\"\n",
    "\n",
    "print(prompt)"
   ]
  },
  {
   "cell_type": "code",
   "execution_count": 55,
   "metadata": {},
   "outputs": [
    {
     "data": {
      "text/plain": [
       "<openai.OpenAI at 0x74e930d95590>"
      ]
     },
     "execution_count": 55,
     "metadata": {},
     "output_type": "execute_result"
    }
   ],
   "source": [
    "client = OpenAI(api_key=os.environ[\"OPENAI_API_KEY\"])\n",
    "client"
   ]
  },
  {
   "cell_type": "code",
   "execution_count": 255,
   "metadata": {},
   "outputs": [],
   "source": [
    "class Generated(BaseModel):\n",
    "    question: str\n",
    "    correct_answer: str\n",
    "    wrong_answer: str\n",
    "\n",
    "class GeneratedList(BaseModel):\n",
    "    generated_list: list[Generated]\n",
    "\n",
    "class Datapoint(BaseModel):\n",
    "    subject: str\n",
    "    construct_name: str  # can't use `construct` because it shadows pydantic internals\n",
    "    question: str\n",
    "    correct_answer: str\n",
    "    wrong_answer: str"
   ]
  },
  {
   "cell_type": "code",
   "execution_count": 256,
   "metadata": {},
   "outputs": [],
   "source": [
    "completion = client.beta.chat.completions.parse(\n",
    "    model=\"gpt-4o\",\n",
    "    messages=[\n",
    "        {\n",
    "            \"role\": \"system\",\n",
    "            \"content\": \"You are a mathematics teacher tasked to create questions to assess the student's understanding of math concepts. You will be presented with one example: the math question, the correct and wrong answer, along with the math misconceptions that led students choosing wrong answer instead of the correct one. Your task is to create similar, but diverse set of new questions, correct and wrong answers according to the given subject, construct, and misconception. Make sure the generated contents are diverse enough. Generate 5 set. Output answer in json.\",\n",
    "        },\n",
    "        {\"role\": \"user\", \"content\": prompt},\n",
    "    ],\n",
    "    response_format=GeneratedList,\n",
    ")"
   ]
  },
  {
   "cell_type": "code",
   "execution_count": 261,
   "metadata": {},
   "outputs": [
    {
     "name": "stdout",
     "output_type": "stream",
     "text": [
      "\n",
      "question: Which of the graphs below most accurately represents how the speed of a car \\( s \\) affects the travel time \\( t \\) for a fixed distance?\n",
      "\n",
      "correct_answer: ![A curve starting high on the y-axis, dips sharply, and approaches the x-axis without touching it]\n",
      "\n",
      "wrong_answer: ![A diagonal line slanting downwards from left to right intersecting both axes]\n",
      "\n",
      "🔥\n",
      "\n",
      "question: Select the graph that best depicts how the intensity of light \\( I \\) varies with the distance \\( d \\) from the source.\n",
      "\n",
      "correct_answer: ![A hyperbolic curve decreasing steeply as it moves rightward, getting closer to the x-axis while never crossing it]\n",
      "\n",
      "wrong_answer: ![A constant sloping line from top-left to bottom-right intersecting both axes]\n",
      "\n",
      "🔥\n",
      "\n",
      "question: Identify the graph which depicts the cooling rate \\( R \\) of a hot object decreasing as the ambient temperature gap \\( T \\) increases.\n",
      "\n",
      "correct_answer: ![Graph exhibiting a steep drop quickly leveling out, not intersecting axes]\n",
      "\n",
      "wrong_answer: ![Graph with a linear decline intersecting both the x and y axes]\n",
      "\n",
      "🔥\n",
      "\n",
      "question: Which graph most effectively illustrates the relationship between resistance \\( R \\) in a wire and the cross-sectional area \\( A \\)?\n",
      "\n",
      "correct_answer: ![Graph that starts high on the y-axis and sharply declines leveling out near the x-axis, avoiding intersection]\n",
      "\n",
      "wrong_answer: ![Line that forms a straight diagonal from top left to bottom right touching both axes]\n",
      "\n",
      "🔥\n",
      "\n",
      "question: Which of the following graphs best demonstrates how the pressure \\( P \\) within a cylinder changes as its volume \\( V \\) increases?\n",
      "\n",
      "correct_answer: ![A rapidly decreasing curve that starts high and approaches the x-axis but does not touch it]\n",
      "\n",
      "wrong_answer: ![A direct linear decline from the graph's top-left corner down to touch the x-axis]\n",
      "\n",
      "🔥\n"
     ]
    }
   ],
   "source": [
    "result = completion.choices[0].message.parsed\n",
    "assert result is not None\n",
    "for generated in result.generated_list:\n",
    "    prompt = f\"\"\"\n",
    "question: {generated.question}\n",
    "\n",
    "correct_answer: {generated.correct_answer}\n",
    "\n",
    "wrong_answer: {generated.wrong_answer}\n",
    "\"\"\"\n",
    "    print(prompt)\n",
    "    print(\"🔥\")"
   ]
  },
  {
   "cell_type": "code",
   "execution_count": null,
   "metadata": {},
   "outputs": [],
   "source": []
  },
  {
   "cell_type": "code",
   "execution_count": null,
   "metadata": {},
   "outputs": [],
   "source": []
  }
 ],
 "metadata": {
  "kernelspec": {
   "display_name": "kaggle_eedi",
   "language": "python",
   "name": "python3"
  },
  "language_info": {
   "codemirror_mode": {
    "name": "ipython",
    "version": 3
   },
   "file_extension": ".py",
   "mimetype": "text/x-python",
   "name": "python",
   "nbconvert_exporter": "python",
   "pygments_lexer": "ipython3",
   "version": "3.11.9"
  }
 },
 "nbformat": 4,
 "nbformat_minor": 2
}
