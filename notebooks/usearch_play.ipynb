{
 "cells": [
  {
   "cell_type": "code",
   "execution_count": 2,
   "metadata": {},
   "outputs": [],
   "source": [
    "import numpy as np\n",
    "from usearch.index import Index\n",
    "from sklearn.neighbors import NearestNeighbors"
   ]
  },
  {
   "cell_type": "code",
   "execution_count": 7,
   "metadata": {},
   "outputs": [
    {
     "data": {
      "text/plain": [
       "array([   0,    1,    2, ..., 9997, 9998, 9999], dtype=uint64)"
      ]
     },
     "execution_count": 7,
     "metadata": {},
     "output_type": "execute_result"
    }
   ],
   "source": [
    "index = Index(ndim=1024, multi=True)\n",
    "keys = np.arange(10000)\n",
    "vectors = np.random.random((10000, 1024))\n",
    "index.add(keys, vectors)"
   ]
  },
  {
   "cell_type": "code",
   "execution_count": 12,
   "metadata": {},
   "outputs": [
    {
     "name": "stdout",
     "output_type": "stream",
     "text": [
      "CPU times: user 5.45 s, sys: 33.4 ms, total: 5.49 s\n",
      "Wall time: 688 ms\n"
     ]
    },
    {
     "data": {
      "text/plain": [
       "usearch.BatchMatches(700000 across 7000 queries)"
      ]
     },
     "execution_count": 12,
     "metadata": {},
     "output_type": "execute_result"
    }
   ],
   "source": [
    "%%time\n",
    "matches = index.search(vectors=vectors[:7000], count=100)\n",
    "matches"
   ]
  },
  {
   "cell_type": "code",
   "execution_count": null,
   "metadata": {},
   "outputs": [],
   "source": [
    "for match,i  in zip(matches, range(100)):\n",
    "    print(match[0].key)"
   ]
  },
  {
   "cell_type": "code",
   "execution_count": 51,
   "metadata": {},
   "outputs": [],
   "source": [
    "nn = NearestNeighbors(n_neighbors=13, algorithm=\"brute\", metric=\"cosine\")\n",
    "nn.fit(vectors);"
   ]
  },
  {
   "cell_type": "code",
   "execution_count": 57,
   "metadata": {},
   "outputs": [
    {
     "data": {
      "text/plain": [
       "array([[   0, 2012, 7705, 1411, 8644, 6467, 6986, 7035, 7331, 2050, 6393,\n",
       "        4798, 8374],\n",
       "       [   1, 4320, 6571,  562, 4941,   95, 7828, 5317,  249,  590, 9239,\n",
       "        3568, 4659],\n",
       "       [   2, 2348, 8471, 9758, 3308, 7716, 4336, 1850, 3344, 3232,  429,\n",
       "        9966, 1692],\n",
       "       [   3, 5180, 7106, 6950, 3808,  507, 6559, 5742, 3992, 3811,  242,\n",
       "        1022, 2058]])"
      ]
     },
     "execution_count": 57,
     "metadata": {},
     "output_type": "execute_result"
    }
   ],
   "source": [
    "ranks = nn.kneighbors(vectors[:4], return_distance=False)\n",
    "ranks"
   ]
  },
  {
   "cell_type": "code",
   "execution_count": 58,
   "metadata": {},
   "outputs": [
    {
     "data": {
      "text/plain": [
       "[[2012, 7705, 1411, 8644, 6467],\n",
       " [1, 6571, 562, 4941, 95],\n",
       " [2, 2348, 8471, 9758, 3308],\n",
       " [3, 5180, 7106, 3808, 507]]"
      ]
     },
     "execution_count": 58,
     "metadata": {},
     "output_type": "execute_result"
    }
   ],
   "source": [
    "hards = []\n",
    "q_mis_ids = [0, 4320, 99, 6950]\n",
    "k = 5\n",
    "for i, top_n_miscons in enumerate(ranks):  \n",
    "    hards.append(top_n_miscons[top_n_miscons != q_mis_ids[i]][:k].tolist())\n",
    "hards"
   ]
  },
  {
   "cell_type": "code",
   "execution_count": 56,
   "metadata": {},
   "outputs": [
    {
     "data": {
      "text/plain": [
       "array([5180, 7106, 6950, 3808,  507])"
      ]
     },
     "execution_count": 56,
     "metadata": {},
     "output_type": "execute_result"
    }
   ],
   "source": [
    "rank[rank != 3][:5]"
   ]
  },
  {
   "cell_type": "code",
   "execution_count": 41,
   "metadata": {},
   "outputs": [
    {
     "data": {
      "text/plain": [
       "True"
      ]
     },
     "execution_count": 41,
     "metadata": {},
     "output_type": "execute_result"
    }
   ],
   "source": [
    "np.all(rank[:, 0] == np.arange(7000))"
   ]
  }
 ],
 "metadata": {
  "kernelspec": {
   "display_name": "kaggle_eedi",
   "language": "python",
   "name": "python3"
  },
  "language_info": {
   "codemirror_mode": {
    "name": "ipython",
    "version": 3
   },
   "file_extension": ".py",
   "mimetype": "text/x-python",
   "name": "python",
   "nbconvert_exporter": "python",
   "pygments_lexer": "ipython3",
   "version": "3.11.9"
  }
 },
 "nbformat": 4,
 "nbformat_minor": 2
}
