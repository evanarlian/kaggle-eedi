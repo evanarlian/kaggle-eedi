{
 "cells": [
  {
   "cell_type": "code",
   "execution_count": 2,
   "metadata": {},
   "outputs": [
    {
     "data": {
      "text/plain": [
       "True"
      ]
     },
     "execution_count": 2,
     "metadata": {},
     "output_type": "execute_result"
    }
   ],
   "source": [
    "import os\n",
    "import dspy\n",
    "from dotenv import load_dotenv\n",
    "load_dotenv()"
   ]
  },
  {
   "cell_type": "code",
   "execution_count": 3,
   "metadata": {},
   "outputs": [],
   "source": [
    "lm = dspy.LM('openai/gpt-4o-mini', api_key=os.environ[\"OPENAI_API_KEY\"])\n",
    "dspy.configure(lm=lm)"
   ]
  },
  {
   "cell_type": "code",
   "execution_count": 19,
   "metadata": {},
   "outputs": [],
   "source": [
    "math = dspy.ChainOfThought(\"question, choices: list[str] -> reasoning: str, selection: int\")\n",
    "p = math(question=\"what is the square root of 9?\", choices=[\"1. 2\", \"2. 3\", \"3. 5\"])"
   ]
  },
  {
   "cell_type": "code",
   "execution_count": 25,
   "metadata": {},
   "outputs": [
    {
     "data": {
      "text/plain": [
       "{'prompt': None,\n",
       " 'messages': [{'role': 'system',\n",
       "   'content': 'Your input fields are:\\n1. `question` (str)\\n2. `choices` (list[str])\\n\\nYour output fields are:\\n1. `reasoning` (str)\\n2. `selection` (int)\\n\\nAll interactions will be structured in the following way, with the appropriate values filled in.\\n\\n[[ ## question ## ]]\\n{question}\\n\\n[[ ## choices ## ]]\\n{choices}\\n\\n[[ ## reasoning ## ]]\\n{reasoning}\\n\\n[[ ## selection ## ]]\\n{selection}        # note: the value you produce must be a single int value\\n\\n[[ ## completed ## ]]\\n\\nIn adhering to this structure, your objective is: \\n        Given the fields `question`, `choices`, produce the fields `reasoning`, `selection`.'},\n",
       "  {'role': 'user',\n",
       "   'content': '[[ ## question ## ]]\\nwhat is the square root of 9?\\n\\n[[ ## choices ## ]]\\n[\"1. 2\", \"2. 3\", \"3. 5\"]\\n\\nRespond with the corresponding output fields, starting with the field `[[ ## reasoning ## ]]`, then `[[ ## selection ## ]]` (must be formatted as a valid Python int), and then ending with the marker for `[[ ## completed ## ]]`.'}],\n",
       " 'kwargs': {'temperature': 0.0, 'max_tokens': 1000},\n",
       " 'response': ModelResponse(id='chatcmpl-AcwAoapv4vhzEU1aiX6tp00NI7iMc', choices=[Choices(finish_reason='stop', index=0, message=Message(content='[[ ## reasoning ## ]]\\nThe square root of 9 is the number that, when multiplied by itself, equals 9. The number 3 satisfies this condition because 3 * 3 = 9. Therefore, the correct answer is 3.\\n\\n[[ ## selection ## ]]\\n2\\n\\n[[ ## completed ## ]]', role='assistant', tool_calls=None, function_call=None))], created=1733843446, model='gpt-4o-mini-2024-07-18', object='chat.completion', system_fingerprint='fp_bba3c8e70b', usage=Usage(completion_tokens=63, prompt_tokens=244, total_tokens=307, completion_tokens_details=CompletionTokensDetailsWrapper(audio_tokens=0, reasoning_tokens=0, text_tokens=None, accepted_prediction_tokens=0, rejected_prediction_tokens=0), prompt_tokens_details=PromptTokensDetailsWrapper(audio_tokens=0, cached_tokens=0, text_tokens=None, image_tokens=None)), service_tier=None),\n",
       " 'outputs': ['[[ ## reasoning ## ]]\\nThe square root of 9 is the number that, when multiplied by itself, equals 9. The number 3 satisfies this condition because 3 * 3 = 9. Therefore, the correct answer is 3.\\n\\n[[ ## selection ## ]]\\n2\\n\\n[[ ## completed ## ]]'],\n",
       " 'usage': {'completion_tokens': 63,\n",
       "  'prompt_tokens': 244,\n",
       "  'total_tokens': 307,\n",
       "  'completion_tokens_details': CompletionTokensDetailsWrapper(audio_tokens=0, reasoning_tokens=0, text_tokens=None, accepted_prediction_tokens=0, rejected_prediction_tokens=0),\n",
       "  'prompt_tokens_details': PromptTokensDetailsWrapper(audio_tokens=0, cached_tokens=0, text_tokens=None, image_tokens=None)},\n",
       " 'cost': 7.439999999999999e-05,\n",
       " 'timestamp': '2024-12-10T22:11:29.802546',\n",
       " 'uuid': 'b97d6910-9e2c-41fc-b777-97a61b260085',\n",
       " 'model': 'openai/gpt-4o-mini',\n",
       " 'model_type': 'chat'}"
      ]
     },
     "execution_count": 25,
     "metadata": {},
     "output_type": "execute_result"
    }
   ],
   "source": [
    "lm.history[-1]"
   ]
  },
  {
   "cell_type": "code",
   "execution_count": null,
   "metadata": {},
   "outputs": [],
   "source": []
  }
 ],
 "metadata": {
  "kernelspec": {
   "display_name": "kaggle_eedi",
   "language": "python",
   "name": "python3"
  },
  "language_info": {
   "codemirror_mode": {
    "name": "ipython",
    "version": 3
   },
   "file_extension": ".py",
   "mimetype": "text/x-python",
   "name": "python",
   "nbconvert_exporter": "python",
   "pygments_lexer": "ipython3",
   "version": "3.11.9"
  }
 },
 "nbformat": 4,
 "nbformat_minor": 2
}
