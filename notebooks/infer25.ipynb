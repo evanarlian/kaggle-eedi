{
 "cells": [
  {
   "cell_type": "code",
   "execution_count": 62,
   "metadata": {},
   "outputs": [],
   "source": [
    "from transformers import AutoModel, AutoTokenizer\n",
    "from eedi.helpers import batched_inference\n",
    "import torch\n",
    "from transformers import BitsAndBytesConfig\n",
    "from sklearn.neighbors import NearestNeighbors\n",
    "import numpy as np"
   ]
  },
  {
   "cell_type": "code",
   "execution_count": 66,
   "metadata": {},
   "outputs": [],
   "source": [
    "# fake training steps\n",
    "bnb_config = BitsAndBytesConfig(\n",
    "    load_in_4bit=True,\n",
    "    bnb_4bit_use_double_quant=True,\n",
    "    bnb_4bit_quant_type=\"nf4\",\n",
    "    bnb_4bit_compute_dtype=torch.float16,  # this is the q in qlora\n",
    ")\n",
    "model_orig = AutoModel.from_pretrained(\"sentence-transformers/all-MiniLM-L6-v2\")\n",
    "\n",
    "# fake lora, do training\n",
    "model_lora = AutoModel.from_pretrained(\"evanarlian/minilm-lambda-deepspeed_2024-12-02__22.41.08\")\n",
    "tokenizer = AutoTokenizer.from_pretrained(\"sentence-transformers/all-MiniLM-L6-v2\")"
   ]
  },
  {
   "cell_type": "code",
   "execution_count": null,
   "metadata": {},
   "outputs": [],
   "source": []
  },
  {
   "cell_type": "code",
   "execution_count": 67,
   "metadata": {},
   "outputs": [
    {
     "name": "stderr",
     "output_type": "stream",
     "text": [
      "/home/evan/miniconda3/envs/kaggle_eedi/lib/python3.11/site-packages/transformers/integrations/peft.py:397: FutureWarning: The `active_adapter` method is deprecated and will be removed in a future version.\n",
      "  warnings.warn(\n"
     ]
    },
    {
     "data": {
      "text/plain": [
       "('../models/model_orig/tokenizer_config.json',\n",
       " '../models/model_orig/special_tokens_map.json',\n",
       " '../models/model_orig/vocab.txt',\n",
       " '../models/model_orig/added_tokens.json',\n",
       " '../models/model_orig/tokenizer.json')"
      ]
     },
     "execution_count": 67,
     "metadata": {},
     "output_type": "execute_result"
    }
   ],
   "source": [
    "model_orig.save_pretrained(\"../models/model_orig\")\n",
    "model_lora.save_pretrained(\"../models/model_lora\")\n",
    "tokenizer.save_pretrained(\"../models/model_orig\")"
   ]
  },
  {
   "cell_type": "code",
   "execution_count": 60,
   "metadata": {},
   "outputs": [],
   "source": [
    "# model_orig = AutoModel.from_pretrained(\"sentence-transformers/all-MiniLM-L6-v2\")\n",
    "model_lora = AutoModel.from_pretrained(\n",
    "    \"../models/model_orig\", quantization_config=bnb_config, device_map=\"cuda:0\"\n",
    ")\n",
    "model_lora.load_adapter(\"../models/model_lora\")\n",
    "# tokenizer = AutoTokenizer.from_pretrained(\"sentence-transformers/all-MiniLM-L6-v2\")"
   ]
  },
  {
   "cell_type": "code",
   "execution_count": null,
   "metadata": {},
   "outputs": [
    {
     "data": {
      "text/plain": [
       "device(type='cuda', index=0)"
      ]
     },
     "execution_count": 58,
     "metadata": {},
     "output_type": "execute_result"
    }
   ],
   "source": [
    "\n"
   ]
  },
  {
   "cell_type": "code",
   "execution_count": 48,
   "metadata": {},
   "outputs": [
    {
     "data": {
      "text/plain": [
       "tensor([[-0.0200, -0.0034, -0.0147,  ...,  0.0381, -0.0054,  0.0311],\n",
       "        [-0.0164, -0.0306,  0.0487,  ..., -0.0158,  0.0132, -0.0076],\n",
       "        [-0.0179, -0.0110,  0.0321,  ..., -0.0232,  0.0219, -0.0079],\n",
       "        ...,\n",
       "        [-0.0268, -0.0060,  0.0316,  ..., -0.0249,  0.0128, -0.0103],\n",
       "        [-0.0040, -0.0477,  0.0333,  ..., -0.0235,  0.0242, -0.0132],\n",
       "        [-0.0484,  0.0109,  0.0187,  ..., -0.0177,  0.0081,  0.0046]],\n",
       "       dtype=torch.float16)"
      ]
     },
     "execution_count": 48,
     "metadata": {},
     "output_type": "execute_result"
    }
   ],
   "source": [
    "p.to(\"cpu\")"
   ]
  },
  {
   "cell_type": "code",
   "execution_count": null,
   "metadata": {},
   "outputs": [],
   "source": [
    "for param1, param2 in zip(model1.parameters(), model2.parameters()):\n",
    "    print(torch.all(param1 == param2))"
   ]
  },
  {
   "cell_type": "code",
   "execution_count": null,
   "metadata": {},
   "outputs": [],
   "source": []
  },
  {
   "cell_type": "code",
   "execution_count": 63,
   "metadata": {},
   "outputs": [],
   "source": [
    "m_embeds = np.random.random((234, 1024))\n",
    "nn = NearestNeighbors(n_neighbors=25, algorithm=\"brute\", metric=\"cosine\")\n",
    "nn.fit(m_embeds)\n",
    "result = nn.kneighbors(m_embeds, return_distance=False)"
   ]
  },
  {
   "cell_type": "code",
   "execution_count": 65,
   "metadata": {},
   "outputs": [
    {
     "data": {
      "text/plain": [
       "(234, 25)"
      ]
     },
     "execution_count": 65,
     "metadata": {},
     "output_type": "execute_result"
    }
   ],
   "source": [
    "result.shape"
   ]
  }
 ],
 "metadata": {
  "kernelspec": {
   "display_name": "kaggle_eedi",
   "language": "python",
   "name": "python3"
  },
  "language_info": {
   "codemirror_mode": {
    "name": "ipython",
    "version": 3
   },
   "file_extension": ".py",
   "mimetype": "text/x-python",
   "name": "python",
   "nbconvert_exporter": "python",
   "pygments_lexer": "ipython3",
   "version": "3.11.9"
  }
 },
 "nbformat": 4,
 "nbformat_minor": 2
}
