{
 "cells": [
  {
   "cell_type": "code",
   "execution_count": 1,
   "metadata": {},
   "outputs": [],
   "source": [
    "from torch.utils.data import Dataset, DataLoader"
   ]
  },
  {
   "cell_type": "code",
   "execution_count": 3,
   "metadata": {},
   "outputs": [],
   "source": [
    "class MyDataset(Dataset):\n",
    "    def __init__(self, nums: list[int]) -> None:\n",
    "        self.nums = nums\n",
    "        self.multiplier = 1\n",
    "    def __len__(self) -> int:\n",
    "        return len(self.nums)\n",
    "    def __getitem__(self, i: int) -> int:\n",
    "        return self.nums[i] * self.multiplier\n",
    "    def incr_multiplier(self) -> None:\n",
    "        self.multiplier += 1"
   ]
  },
  {
   "cell_type": "code",
   "execution_count": 4,
   "metadata": {},
   "outputs": [],
   "source": [
    "numbers = [1,2,3,4,5,6,7,8]\n",
    "ds = MyDataset(numbers)\n",
    "loader = DataLoader(ds, batch_size=2)"
   ]
  },
  {
   "cell_type": "code",
   "execution_count": 62,
   "metadata": {},
   "outputs": [
    {
     "name": "stdout",
     "output_type": "stream",
     "text": [
      "tensor([197, 394])\n",
      "tensor([594, 792])\n",
      "tensor([ 995, 1194])\n",
      "tensor([1400, 1600])\n"
     ]
    }
   ],
   "source": [
    "for batch in loader:\n",
    "    loader.dataset.incr_multiplier()\n",
    "    print(batch)"
   ]
  }
 ],
 "metadata": {
  "kernelspec": {
   "display_name": "kaggle_eedi",
   "language": "python",
   "name": "python3"
  },
  "language_info": {
   "codemirror_mode": {
    "name": "ipython",
    "version": 3
   },
   "file_extension": ".py",
   "mimetype": "text/x-python",
   "name": "python",
   "nbconvert_exporter": "python",
   "pygments_lexer": "ipython3",
   "version": "3.11.9"
  }
 },
 "nbformat": 4,
 "nbformat_minor": 2
}
