{
 "cells": [
  {
   "cell_type": "markdown",
   "metadata": {},
   "source": [
    "# eedi_11_21_14B\n",
    "* standard embedding\n",
    "* resize emb to: 151668, while qwen orig is 151665. 3 new is added"
   ]
  },
  {
   "cell_type": "code",
   "execution_count": 23,
   "metadata": {},
   "outputs": [],
   "source": [
    "import pandas as pd\n",
    "import json\n",
    "from pathlib import Path\n",
    "from eedi.datasets import make_nice_df\n",
    "from transformers import AutoModel, AutoTokenizer"
   ]
  },
  {
   "cell_type": "code",
   "execution_count": 10,
   "metadata": {},
   "outputs": [],
   "source": [
    "root = Path(\"../data\")\n",
    "df_train = pd.read_csv(root / \"train.csv\")\n",
    "df_train = make_nice_df(df_train)\n",
    "df_mis = pd.read_csv(root / \"misconception_mapping.csv\")"
   ]
  },
  {
   "cell_type": "code",
   "execution_count": null,
   "metadata": {},
   "outputs": [],
   "source": [
    "# copy prompt thing\n",
    "def prompt_thing(row: pd.Series):\n",
    "    template = \"\"\"<instruct>Given a math multiple-choice problem with a student's wrong answer, retrieve the math misconceptions\n",
    "<query>Question: {question}\n",
    "    \n",
    "SubjectName: {subject}\n",
    "ConstructName: {construct}\n",
    "Correct answer: {correct}\n",
    "Student wrong answer: {wrong}\n",
    "<response>\"\"\"\n",
    "    return template.format(\n",
    "        question=row[\"QuestionText\"],\n",
    "        subject=row[\"SubjectName\"],\n",
    "        construct=row[\"ConstructName\"],\n",
    "        correct=row[\"CorrectText\"],\n",
    "        wrong=row[\"WrongText\"],\n",
    "    )\n",
    "\n",
    "# i did not implement the query max length, too lazy\n",
    "df_train[\"prompt\"] = df_train.apply(prompt_thing, axis=1)\n",
    "\n",
    "# after this point, he concats the prompt with misconceptions?? whyy\n",
    "# nah, just obfuscation"
   ]
  },
  {
   "cell_type": "code",
   "execution_count": 22,
   "metadata": {},
   "outputs": [
    {
     "data": {
      "text/plain": [
       "6957"
      ]
     },
     "execution_count": 22,
     "metadata": {},
     "output_type": "execute_result"
    }
   ],
   "source": [
    "concat_sus = df_train[\"prompt\"].tolist() + df_mis[\"MisconceptionName\"].tolist()\n",
    "len(concat_sus)"
   ]
  },
  {
   "cell_type": "code",
   "execution_count": 25,
   "metadata": {},
   "outputs": [],
   "source": [
    "model_name = \"Qwen/Qwen2.5-1.5B-Instruct\"\n",
    "model = AutoModel.from_pretrained(model_name, trust_remote_code=True)\n",
    "tokenizer = AutoTokenizer.from_pretrained(model_name)"
   ]
  },
  {
   "cell_type": "code",
   "execution_count": 28,
   "metadata": {},
   "outputs": [
    {
     "data": {
      "text/plain": [
       "Embedding(151936, 1536)"
      ]
     },
     "execution_count": 28,
     "metadata": {},
     "output_type": "execute_result"
    }
   ],
   "source": [
    "model.embed_tokens"
   ]
  },
  {
   "cell_type": "code",
   "execution_count": 30,
   "metadata": {},
   "outputs": [
    {
     "data": {
      "text/plain": [
       "Embedding(151665, 1536)"
      ]
     },
     "execution_count": 30,
     "metadata": {},
     "output_type": "execute_result"
    }
   ],
   "source": [
    "# he is using special tokenier\n",
    "model.resize_token_embeddings(len(tokenizer))"
   ]
  },
  {
   "cell_type": "code",
   "execution_count": 32,
   "metadata": {},
   "outputs": [
    {
     "data": {
      "text/plain": [
       "151665"
      ]
     },
     "execution_count": 32,
     "metadata": {},
     "output_type": "execute_result"
    }
   ],
   "source": [
    "# \n",
    "len(tokenizer) "
   ]
  },
  {
   "cell_type": "markdown",
   "metadata": {},
   "source": [
    "# flag_qwen_14b\n",
    "* standard embedding\n",
    "* same tokenizer as 11_21_14B"
   ]
  },
  {
   "cell_type": "code",
   "execution_count": 34,
   "metadata": {},
   "outputs": [],
   "source": [
    "def prompt_thing2(row: pd.Series):\n",
    "    template = \"\"\"Instruct: Given a math question with correct answer and a misconcepted incorrect answer, retrieve the most accurate misconception for the incorrect answer.\n",
    "Query: ### SubjectName: {subject}\n",
    "### ConstructName: {subject}\n",
    "### Question: {question}\n",
    "### Correct Answer: {correct}\n",
    "### Misconcepte Incorrect answer: {wrong}\n",
    "<response>\"\"\"\n",
    "    return template.format(\n",
    "        question=row[\"QuestionText\"],\n",
    "        subject=row[\"SubjectName\"],\n",
    "        construct=row[\"ConstructName\"],\n",
    "        correct=row[\"CorrectText\"],\n",
    "        wrong=row[\"WrongText\"],\n",
    "    )\n",
    "df_train[\"prompt2\"] = df_train.apply(prompt_thing2, axis=1)"
   ]
  },
  {
   "cell_type": "code",
   "execution_count": 36,
   "metadata": {},
   "outputs": [
    {
     "data": {
      "text/html": [
       "<div>\n",
       "<style scoped>\n",
       "    .dataframe tbody tr th:only-of-type {\n",
       "        vertical-align: middle;\n",
       "    }\n",
       "\n",
       "    .dataframe tbody tr th {\n",
       "        vertical-align: top;\n",
       "    }\n",
       "\n",
       "    .dataframe thead th {\n",
       "        text-align: right;\n",
       "    }\n",
       "</style>\n",
       "<table border=\"1\" class=\"dataframe\">\n",
       "  <thead>\n",
       "    <tr style=\"text-align: right;\">\n",
       "      <th></th>\n",
       "      <th>QuestionId</th>\n",
       "      <th>ConstructId</th>\n",
       "      <th>ConstructName</th>\n",
       "      <th>SubjectId</th>\n",
       "      <th>SubjectName</th>\n",
       "      <th>CorrectChoice</th>\n",
       "      <th>CorrectText</th>\n",
       "      <th>QuestionText</th>\n",
       "      <th>WrongChoice</th>\n",
       "      <th>WrongText</th>\n",
       "      <th>MisconceptionId</th>\n",
       "      <th>QuestionId_Answer</th>\n",
       "      <th>prompt</th>\n",
       "      <th>prompt2</th>\n",
       "    </tr>\n",
       "  </thead>\n",
       "  <tbody>\n",
       "    <tr>\n",
       "      <th>0</th>\n",
       "      <td>0</td>\n",
       "      <td>856</td>\n",
       "      <td>Use the order of operations to carry out calcu...</td>\n",
       "      <td>33</td>\n",
       "      <td>BIDMAS</td>\n",
       "      <td>A</td>\n",
       "      <td>\\( 3 \\times(2+4)-5 \\)</td>\n",
       "      <td>\\[\\n3 \\times 2+4-5\\n\\]\\nWhere do the brackets ...</td>\n",
       "      <td>D</td>\n",
       "      <td>Does not need brackets</td>\n",
       "      <td>1672</td>\n",
       "      <td>0_D</td>\n",
       "      <td>&lt;instruct&gt;Given a math multiple-choice problem...</td>\n",
       "      <td>Instruct: Given a math question with correct a...</td>\n",
       "    </tr>\n",
       "    <tr>\n",
       "      <th>1</th>\n",
       "      <td>1</td>\n",
       "      <td>1612</td>\n",
       "      <td>Simplify an algebraic fraction by factorising ...</td>\n",
       "      <td>1077</td>\n",
       "      <td>Simplifying Algebraic Fractions</td>\n",
       "      <td>D</td>\n",
       "      <td>Does not simplify</td>\n",
       "      <td>Simplify the following, if possible: \\( \\frac{...</td>\n",
       "      <td>A</td>\n",
       "      <td>\\( m+1 \\)</td>\n",
       "      <td>2142</td>\n",
       "      <td>1_A</td>\n",
       "      <td>&lt;instruct&gt;Given a math multiple-choice problem...</td>\n",
       "      <td>Instruct: Given a math question with correct a...</td>\n",
       "    </tr>\n",
       "    <tr>\n",
       "      <th>2</th>\n",
       "      <td>1</td>\n",
       "      <td>1612</td>\n",
       "      <td>Simplify an algebraic fraction by factorising ...</td>\n",
       "      <td>1077</td>\n",
       "      <td>Simplifying Algebraic Fractions</td>\n",
       "      <td>D</td>\n",
       "      <td>Does not simplify</td>\n",
       "      <td>Simplify the following, if possible: \\( \\frac{...</td>\n",
       "      <td>B</td>\n",
       "      <td>\\( m+2 \\)</td>\n",
       "      <td>143</td>\n",
       "      <td>1_B</td>\n",
       "      <td>&lt;instruct&gt;Given a math multiple-choice problem...</td>\n",
       "      <td>Instruct: Given a math question with correct a...</td>\n",
       "    </tr>\n",
       "    <tr>\n",
       "      <th>3</th>\n",
       "      <td>1</td>\n",
       "      <td>1612</td>\n",
       "      <td>Simplify an algebraic fraction by factorising ...</td>\n",
       "      <td>1077</td>\n",
       "      <td>Simplifying Algebraic Fractions</td>\n",
       "      <td>D</td>\n",
       "      <td>Does not simplify</td>\n",
       "      <td>Simplify the following, if possible: \\( \\frac{...</td>\n",
       "      <td>C</td>\n",
       "      <td>\\( m-1 \\)</td>\n",
       "      <td>2142</td>\n",
       "      <td>1_C</td>\n",
       "      <td>&lt;instruct&gt;Given a math multiple-choice problem...</td>\n",
       "      <td>Instruct: Given a math question with correct a...</td>\n",
       "    </tr>\n",
       "    <tr>\n",
       "      <th>4</th>\n",
       "      <td>2</td>\n",
       "      <td>2774</td>\n",
       "      <td>Calculate the range from a list of data</td>\n",
       "      <td>339</td>\n",
       "      <td>Range and Interquartile Range from a List of Data</td>\n",
       "      <td>B</td>\n",
       "      <td>Only\\nKatie</td>\n",
       "      <td>Tom and Katie are discussing the \\( 5 \\) plant...</td>\n",
       "      <td>A</td>\n",
       "      <td>Only\\nTom</td>\n",
       "      <td>1287</td>\n",
       "      <td>2_A</td>\n",
       "      <td>&lt;instruct&gt;Given a math multiple-choice problem...</td>\n",
       "      <td>Instruct: Given a math question with correct a...</td>\n",
       "    </tr>\n",
       "  </tbody>\n",
       "</table>\n",
       "</div>"
      ],
      "text/plain": [
       "   QuestionId  ConstructId                                      ConstructName  \\\n",
       "0           0          856  Use the order of operations to carry out calcu...   \n",
       "1           1         1612  Simplify an algebraic fraction by factorising ...   \n",
       "2           1         1612  Simplify an algebraic fraction by factorising ...   \n",
       "3           1         1612  Simplify an algebraic fraction by factorising ...   \n",
       "4           2         2774            Calculate the range from a list of data   \n",
       "\n",
       "   SubjectId                                        SubjectName CorrectChoice  \\\n",
       "0         33                                             BIDMAS             A   \n",
       "1       1077                    Simplifying Algebraic Fractions             D   \n",
       "2       1077                    Simplifying Algebraic Fractions             D   \n",
       "3       1077                    Simplifying Algebraic Fractions             D   \n",
       "4        339  Range and Interquartile Range from a List of Data             B   \n",
       "\n",
       "             CorrectText                                       QuestionText  \\\n",
       "0  \\( 3 \\times(2+4)-5 \\)  \\[\\n3 \\times 2+4-5\\n\\]\\nWhere do the brackets ...   \n",
       "1      Does not simplify  Simplify the following, if possible: \\( \\frac{...   \n",
       "2      Does not simplify  Simplify the following, if possible: \\( \\frac{...   \n",
       "3      Does not simplify  Simplify the following, if possible: \\( \\frac{...   \n",
       "4            Only\\nKatie  Tom and Katie are discussing the \\( 5 \\) plant...   \n",
       "\n",
       "  WrongChoice               WrongText  MisconceptionId QuestionId_Answer  \\\n",
       "0           D  Does not need brackets             1672               0_D   \n",
       "1           A               \\( m+1 \\)             2142               1_A   \n",
       "2           B               \\( m+2 \\)              143               1_B   \n",
       "3           C               \\( m-1 \\)             2142               1_C   \n",
       "4           A               Only\\nTom             1287               2_A   \n",
       "\n",
       "                                              prompt  \\\n",
       "0  <instruct>Given a math multiple-choice problem...   \n",
       "1  <instruct>Given a math multiple-choice problem...   \n",
       "2  <instruct>Given a math multiple-choice problem...   \n",
       "3  <instruct>Given a math multiple-choice problem...   \n",
       "4  <instruct>Given a math multiple-choice problem...   \n",
       "\n",
       "                                             prompt2  \n",
       "0  Instruct: Given a math question with correct a...  \n",
       "1  Instruct: Given a math question with correct a...  \n",
       "2  Instruct: Given a math question with correct a...  \n",
       "3  Instruct: Given a math question with correct a...  \n",
       "4  Instruct: Given a math question with correct a...  "
      ]
     },
     "execution_count": 36,
     "metadata": {},
     "output_type": "execute_result"
    }
   ],
   "source": [
    "df_train.head()"
   ]
  },
  {
   "cell_type": "markdown",
   "metadata": {},
   "source": [
    "# okinawa"
   ]
  },
  {
   "cell_type": "code",
   "execution_count": 37,
   "metadata": {},
   "outputs": [],
   "source": [
    "def prompt_thing3(row: pd.Series):\n",
    "    template = \"\"\"Instruct: Given a math question with correct answer and a misconcepted incorrect answer, retrieve the most accurate misconception for the incorrect answer.\n",
    "Query: ### SubjectName: {subject}\n",
    "### ConstructName: {subject}\n",
    "### Question: {question}\n",
    "### Correct Answer: {correct}\n",
    "### Misconcepte Incorrect answer: {wrong}\"\"\"\n",
    "    return template.format(\n",
    "        question=row[\"QuestionText\"],\n",
    "        subject=row[\"SubjectName\"],\n",
    "        construct=row[\"ConstructName\"],\n",
    "        correct=row[\"CorrectText\"],\n",
    "        wrong=row[\"WrongText\"],\n",
    "    )\n",
    "df_train[\"prompt3\"] = df_train.apply(prompt_thing3, axis=1)"
   ]
  },
  {
   "cell_type": "code",
   "execution_count": null,
   "metadata": {},
   "outputs": [],
   "source": []
  }
 ],
 "metadata": {
  "kernelspec": {
   "display_name": "kaggle_eedi",
   "language": "python",
   "name": "python3"
  },
  "language_info": {
   "codemirror_mode": {
    "name": "ipython",
    "version": 3
   },
   "file_extension": ".py",
   "mimetype": "text/x-python",
   "name": "python",
   "nbconvert_exporter": "python",
   "pygments_lexer": "ipython3",
   "version": "3.11.9"
  }
 },
 "nbformat": 4,
 "nbformat_minor": 2
}
