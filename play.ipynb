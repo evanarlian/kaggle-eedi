{
 "cells": [
  {
   "cell_type": "code",
   "execution_count": 1,
   "metadata": {},
   "outputs": [],
   "source": [
    "import pandas as pd\n",
    "from pathlib import Path\n",
    "import IPython.display as ipd"
   ]
  },
  {
   "cell_type": "code",
   "execution_count": 2,
   "metadata": {},
   "outputs": [],
   "source": [
    "df_misc = pd.read_csv(\"data/misconception_mapping.csv\")\n",
    "df_train = pd.read_csv(\"data/train.csv\")\n",
    "df_test = pd.read_csv(\"data/test.csv\")\n",
    "df_samp = pd.read_csv(\"data/sample_submission.csv\")"
   ]
  },
  {
   "cell_type": "code",
   "execution_count": 3,
   "metadata": {},
   "outputs": [
    {
     "data": {
      "text/html": [
       "<div>\n",
       "<style scoped>\n",
       "    .dataframe tbody tr th:only-of-type {\n",
       "        vertical-align: middle;\n",
       "    }\n",
       "\n",
       "    .dataframe tbody tr th {\n",
       "        vertical-align: top;\n",
       "    }\n",
       "\n",
       "    .dataframe thead th {\n",
       "        text-align: right;\n",
       "    }\n",
       "</style>\n",
       "<table border=\"1\" class=\"dataframe\">\n",
       "  <thead>\n",
       "    <tr style=\"text-align: right;\">\n",
       "      <th></th>\n",
       "      <th>QuestionId</th>\n",
       "      <th>ConstructId</th>\n",
       "      <th>ConstructName</th>\n",
       "      <th>SubjectId</th>\n",
       "      <th>SubjectName</th>\n",
       "      <th>CorrectAnswer</th>\n",
       "      <th>QuestionText</th>\n",
       "      <th>AnswerAText</th>\n",
       "      <th>AnswerBText</th>\n",
       "      <th>AnswerCText</th>\n",
       "      <th>AnswerDText</th>\n",
       "      <th>MisconceptionAId</th>\n",
       "      <th>MisconceptionBId</th>\n",
       "      <th>MisconceptionCId</th>\n",
       "      <th>MisconceptionDId</th>\n",
       "    </tr>\n",
       "  </thead>\n",
       "  <tbody>\n",
       "    <tr>\n",
       "      <th>365</th>\n",
       "      <td>365</td>\n",
       "      <td>3207</td>\n",
       "      <td>Understand the terms equilateral and regular, ...</td>\n",
       "      <td>1213</td>\n",
       "      <td>2D Names and Properties of Shapes-Others</td>\n",
       "      <td>A</td>\n",
       "      <td>Tom and Katie are discussing regular polygons....</td>\n",
       "      <td>Only Tom</td>\n",
       "      <td>Only Katie</td>\n",
       "      <td>Both Tom and Katie</td>\n",
       "      <td>Neither is correct</td>\n",
       "      <td>NaN</td>\n",
       "      <td>255.0</td>\n",
       "      <td>255.0</td>\n",
       "      <td>255.0</td>\n",
       "    </tr>\n",
       "    <tr>\n",
       "      <th>742</th>\n",
       "      <td>742</td>\n",
       "      <td>1100</td>\n",
       "      <td>Find the nth term rule for a descending intege...</td>\n",
       "      <td>171</td>\n",
       "      <td>Linear Sequences (nth term)</td>\n",
       "      <td>D</td>\n",
       "      <td>Here are the first three terms of a sequence \\...</td>\n",
       "      <td>\\( 8 n+86 \\)</td>\n",
       "      <td>\\( -8 n+106 \\)</td>\n",
       "      <td>\\( -8 n \\)</td>\n",
       "      <td>\\( -8 n+102 \\)</td>\n",
       "      <td>2016.0</td>\n",
       "      <td>NaN</td>\n",
       "      <td>1582.0</td>\n",
       "      <td>NaN</td>\n",
       "    </tr>\n",
       "    <tr>\n",
       "      <th>218</th>\n",
       "      <td>218</td>\n",
       "      <td>3403</td>\n",
       "      <td>Given a situation sketch an appropriate non li...</td>\n",
       "      <td>244</td>\n",
       "      <td>Indirect (Inverse) Proportion</td>\n",
       "      <td>C</td>\n",
       "      <td>Which of the following graphs is most likely t...</td>\n",
       "      <td>![A straight line graph starting at the origin...</td>\n",
       "      <td>![A curved graph that starts at the origin. As...</td>\n",
       "      <td>![A curved graph that starts up and right of t...</td>\n",
       "      <td>![A straight line graph starting partway up th...</td>\n",
       "      <td>99.0</td>\n",
       "      <td>99.0</td>\n",
       "      <td>NaN</td>\n",
       "      <td>1860.0</td>\n",
       "    </tr>\n",
       "  </tbody>\n",
       "</table>\n",
       "</div>"
      ],
      "text/plain": [
       "     QuestionId  ConstructId  \\\n",
       "365         365         3207   \n",
       "742         742         1100   \n",
       "218         218         3403   \n",
       "\n",
       "                                         ConstructName  SubjectId  \\\n",
       "365  Understand the terms equilateral and regular, ...       1213   \n",
       "742  Find the nth term rule for a descending intege...        171   \n",
       "218  Given a situation sketch an appropriate non li...        244   \n",
       "\n",
       "                                  SubjectName CorrectAnswer  \\\n",
       "365  2D Names and Properties of Shapes-Others             A   \n",
       "742               Linear Sequences (nth term)             D   \n",
       "218             Indirect (Inverse) Proportion             C   \n",
       "\n",
       "                                          QuestionText  \\\n",
       "365  Tom and Katie are discussing regular polygons....   \n",
       "742  Here are the first three terms of a sequence \\...   \n",
       "218  Which of the following graphs is most likely t...   \n",
       "\n",
       "                                           AnswerAText  \\\n",
       "365                                           Only Tom   \n",
       "742                                       \\( 8 n+86 \\)   \n",
       "218  ![A straight line graph starting at the origin...   \n",
       "\n",
       "                                           AnswerBText  \\\n",
       "365                                         Only Katie   \n",
       "742                                     \\( -8 n+106 \\)   \n",
       "218  ![A curved graph that starts at the origin. As...   \n",
       "\n",
       "                                           AnswerCText  \\\n",
       "365                                 Both Tom and Katie   \n",
       "742                                         \\( -8 n \\)   \n",
       "218  ![A curved graph that starts up and right of t...   \n",
       "\n",
       "                                           AnswerDText  MisconceptionAId  \\\n",
       "365                                 Neither is correct               NaN   \n",
       "742                                     \\( -8 n+102 \\)            2016.0   \n",
       "218  ![A straight line graph starting partway up th...              99.0   \n",
       "\n",
       "     MisconceptionBId  MisconceptionCId  MisconceptionDId  \n",
       "365             255.0             255.0             255.0  \n",
       "742               NaN            1582.0               NaN  \n",
       "218              99.0               NaN            1860.0  "
      ]
     },
     "execution_count": 3,
     "metadata": {},
     "output_type": "execute_result"
    }
   ],
   "source": [
    "df_train.sample(3)"
   ]
  },
  {
   "cell_type": "code",
   "execution_count": 4,
   "metadata": {},
   "outputs": [
    {
     "name": "stdout",
     "output_type": "stream",
     "text": [
      "     QuestionId  ConstructId  \\\n",
      "310         310         1662   \n",
      "\n",
      "                                         ConstructName  SubjectId  \\\n",
      "310  Label angles using correct 3-letter notation (...         73   \n",
      "\n",
      "                      SubjectName CorrectAnswer  \\\n",
      "310  Types, Naming and Estimating             C   \n",
      "\n",
      "                                          QuestionText AnswerAText  \\\n",
      "310  Which of the following correctly describes the...         EFA   \n",
      "\n",
      "    AnswerBText AnswerCText AnswerDText  MisconceptionAId  MisconceptionBId  \\\n",
      "310         GEA         AEF           E            1906.0               NaN   \n",
      "\n",
      "     MisconceptionCId  MisconceptionDId  \n",
      "310               NaN             620.0  \n"
     ]
    },
    {
     "data": {
      "text/markdown": [
       "Which of the following correctly describes the marked angle? ![An image of square ABCE. D lies 1/3 from C on the line CE and is connected to A by a line. Attached to the square at line CE is a pentagon CEFGH. G is connected to C and E by lines. The angle highlighted is the entire, interior angle at E.]()"
      ],
      "text/plain": [
       "<IPython.core.display.Markdown object>"
      ]
     },
     "execution_count": 4,
     "metadata": {},
     "output_type": "execute_result"
    }
   ],
   "source": [
    "row = df_train.sample()\n",
    "print(row)\n",
    "ipd.Markdown(row[\"QuestionText\"].values[0].replace(\"\\\\\", \"\\\\\\\\\"))"
   ]
  },
  {
   "cell_type": "code",
   "execution_count": 5,
   "metadata": {},
   "outputs": [
    {
     "data": {
      "text/latex": [
       "$\\displaystyle \\cdot$"
      ],
      "text/plain": [
       "<IPython.core.display.Math object>"
      ]
     },
     "execution_count": 5,
     "metadata": {},
     "output_type": "execute_result"
    }
   ],
   "source": [
    "ipd.Math(\"\\\\cdot\")"
   ]
  },
  {
   "cell_type": "code",
   "execution_count": 6,
   "metadata": {},
   "outputs": [
    {
     "data": {
      "text/plain": [
       "310    Which of the following correctly describes the...\n",
       "Name: QuestionText, dtype: object"
      ]
     },
     "execution_count": 6,
     "metadata": {},
     "output_type": "execute_result"
    }
   ],
   "source": [
    "row[\"QuestionText\"]"
   ]
  },
  {
   "cell_type": "code",
   "execution_count": 7,
   "metadata": {},
   "outputs": [
    {
     "data": {
      "text/html": [
       "<div>\n",
       "<style scoped>\n",
       "    .dataframe tbody tr th:only-of-type {\n",
       "        vertical-align: middle;\n",
       "    }\n",
       "\n",
       "    .dataframe tbody tr th {\n",
       "        vertical-align: top;\n",
       "    }\n",
       "\n",
       "    .dataframe thead th {\n",
       "        text-align: right;\n",
       "    }\n",
       "</style>\n",
       "<table border=\"1\" class=\"dataframe\">\n",
       "  <thead>\n",
       "    <tr style=\"text-align: right;\">\n",
       "      <th></th>\n",
       "      <th>MisconceptionId</th>\n",
       "      <th>MisconceptionName</th>\n",
       "    </tr>\n",
       "  </thead>\n",
       "  <tbody>\n",
       "    <tr>\n",
       "      <th>2322</th>\n",
       "      <td>2322</td>\n",
       "      <td>Believes a percentage of a number will be a mu...</td>\n",
       "    </tr>\n",
       "    <tr>\n",
       "      <th>1169</th>\n",
       "      <td>1169</td>\n",
       "      <td>Does not know that cubic means the same as cub...</td>\n",
       "    </tr>\n",
       "    <tr>\n",
       "      <th>1201</th>\n",
       "      <td>1201</td>\n",
       "      <td>Finds the arc length instead of the area of th...</td>\n",
       "    </tr>\n",
       "    <tr>\n",
       "      <th>1543</th>\n",
       "      <td>1543</td>\n",
       "      <td>Does not realise that a pair of coordinates ca...</td>\n",
       "    </tr>\n",
       "    <tr>\n",
       "      <th>1429</th>\n",
       "      <td>1429</td>\n",
       "      <td>Believes equivalent fractions are formed with ...</td>\n",
       "    </tr>\n",
       "    <tr>\n",
       "      <th>1825</th>\n",
       "      <td>1825</td>\n",
       "      <td>Does not fully simplify fraction</td>\n",
       "    </tr>\n",
       "    <tr>\n",
       "      <th>1844</th>\n",
       "      <td>1844</td>\n",
       "      <td>Uses length scale factor for area without squa...</td>\n",
       "    </tr>\n",
       "    <tr>\n",
       "      <th>1761</th>\n",
       "      <td>1761</td>\n",
       "      <td>Does not understand what each part of a bar mo...</td>\n",
       "    </tr>\n",
       "    <tr>\n",
       "      <th>2435</th>\n",
       "      <td>2435</td>\n",
       "      <td>Reads one point on a time series graph instead...</td>\n",
       "    </tr>\n",
       "    <tr>\n",
       "      <th>2557</th>\n",
       "      <td>2557</td>\n",
       "      <td>Mixes up cubing and squaring</td>\n",
       "    </tr>\n",
       "  </tbody>\n",
       "</table>\n",
       "</div>"
      ],
      "text/plain": [
       "      MisconceptionId                                  MisconceptionName\n",
       "2322             2322  Believes a percentage of a number will be a mu...\n",
       "1169             1169  Does not know that cubic means the same as cub...\n",
       "1201             1201  Finds the arc length instead of the area of th...\n",
       "1543             1543  Does not realise that a pair of coordinates ca...\n",
       "1429             1429  Believes equivalent fractions are formed with ...\n",
       "1825             1825                   Does not fully simplify fraction\n",
       "1844             1844  Uses length scale factor for area without squa...\n",
       "1761             1761  Does not understand what each part of a bar mo...\n",
       "2435             2435  Reads one point on a time series graph instead...\n",
       "2557             2557                       Mixes up cubing and squaring"
      ]
     },
     "execution_count": 7,
     "metadata": {},
     "output_type": "execute_result"
    }
   ],
   "source": [
    "df_misc.sample(10)"
   ]
  },
  {
   "cell_type": "code",
   "execution_count": null,
   "metadata": {},
   "outputs": [],
   "source": []
  },
  {
   "cell_type": "code",
   "execution_count": null,
   "metadata": {},
   "outputs": [],
   "source": []
  }
 ],
 "metadata": {
  "kernelspec": {
   "display_name": "kaggle_eedi",
   "language": "python",
   "name": "python3"
  },
  "language_info": {
   "codemirror_mode": {
    "name": "ipython",
    "version": 3
   },
   "file_extension": ".py",
   "mimetype": "text/x-python",
   "name": "python",
   "nbconvert_exporter": "python",
   "pygments_lexer": "ipython3",
   "version": "3.11.9"
  }
 },
 "nbformat": 4,
 "nbformat_minor": 2
}
